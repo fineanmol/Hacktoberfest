{
 "cells": [
  {
   "cell_type": "code",
   "execution_count": 1,
   "id": "e7fa6f86-d5b9-4fce-9624-0c7496168a73",
   "metadata": {},
   "outputs": [],
   "source": [
    "## LANGUAGE: Python\n",
    "## AUTHOR: Satya\n",
    "## GITHUB: https://github.com/sposada3\n",
    "\n",
    "import turtle\n",
    "screen = turtle.Screen().bgcolor(\"Black\")\n",
    "t = turtle.Turtle()\n",
    "\n",
    "t.pencolor(\"steelblue\")\n",
    "\n",
    "# write\n",
    "font = (\"courier\", 50, \"bold\")\n",
    "t.write(\"Hello World!\", font=font, align=\"center\")\n",
    "t.hideturtle()\n",
    "turtle.exitonclick()"
   ]
  }
 ],
 "metadata": {
  "kernelspec": {
   "display_name": "Python 3 (ipykernel)",
   "language": "python",
   "name": "python3"
  },
  "language_info": {
   "codemirror_mode": {
    "name": "ipython",
    "version": 3
   },
   "file_extension": ".py",
   "mimetype": "text/x-python",
   "name": "python",
   "nbconvert_exporter": "python",
   "pygments_lexer": "ipython3",
   "version": "3.9.7"
  }
 },
 "nbformat": 4,
 "nbformat_minor": 5
}
